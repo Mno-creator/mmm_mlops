import pandas as pd


pd.__version__


!pip install pyarrow





df = pd.read_parquet('https://d37ci6vzurychx.cloudfront.net/trip-data/yellow_tripdata_2024-01.parquet')


df.head()



